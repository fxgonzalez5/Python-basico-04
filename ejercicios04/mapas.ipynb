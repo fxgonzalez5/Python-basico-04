{
 "cells": [
  {
   "cell_type": "code",
   "execution_count": 7,
   "id": "22cc5316",
   "metadata": {},
   "outputs": [
    {
     "name": "stdout",
     "output_type": "stream",
     "text": [
      "Enabling notebook extension jupyter-leaflet/extension...\r\n",
      "      - Validating: \u001b[32mOK\u001b[0m\r\n"
     ]
    }
   ],
   "source": [
    "# !pip install ipyleaflet\n",
    "# !jupyter nbextension enable --py --sys-prefix ipyleaflet"
   ]
  },
  {
   "cell_type": "code",
   "execution_count": 6,
   "id": "6c07768f",
   "metadata": {},
   "outputs": [
    {
     "data": {
      "application/vnd.jupyter.widget-view+json": {
       "model_id": "e98d7307f19b4b25844e582f606b2526",
       "version_major": 2,
       "version_minor": 0
      },
      "text/plain": [
       "Map(center=[-34, -64], controls=(ZoomControl(options=['position', 'zoom_in_text', 'zoom_in_title', 'zoom_out_t…"
      ]
     },
     "metadata": {},
     "output_type": "display_data"
    }
   ],
   "source": [
    "from ipyleaflet import Map, MagnifyingGlass, basemaps, basemap_to_tiles, Marker\n",
    "\n",
    "center = (-34, -64)\n",
    "m = Map(center=center, zoom=2)\n",
    "marker = Marker(location=center, draggable=False)\n",
    "marker2 = Marker(location=(-2, -77.5), draggable=False)\n",
    "m.add_layer(marker);\n",
    "m.add_layer(marker2);\n",
    "\n",
    "# m.add_layer(magnifying_glass)\n",
    "m"
   ]
  }
 ],
 "metadata": {
  "kernelspec": {
   "display_name": "Python 3 (ipykernel)",
   "language": "python",
   "name": "python3"
  },
  "language_info": {
   "codemirror_mode": {
    "name": "ipython",
    "version": 3
   },
   "file_extension": ".py",
   "mimetype": "text/x-python",
   "name": "python",
   "nbconvert_exporter": "python",
   "pygments_lexer": "ipython3",
   "version": "3.10.2"
  }
 },
 "nbformat": 4,
 "nbformat_minor": 5
}
